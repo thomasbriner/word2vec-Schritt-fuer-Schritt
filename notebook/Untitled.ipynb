{
 "cells": [
  {
   "cell_type": "markdown",
   "metadata": {
    "toc": true
   },
   "source": [
    "<h1>Table of Contents<span class=\"tocSkip\"></span></h1>\n",
    "<div class=\"toc\"><ul class=\"toc-item\"><li><span><a href=\"#word2vec_Schritt_fuer_Schritt\" data-toc-modified-id=\"word2vec_Schritt_fuer_Schritt-1\"><span class=\"toc-item-num\">1&nbsp;&nbsp;</span>word2vec_Schritt_fuer_Schritt</a></span><ul class=\"toc-item\"><li><span><a href=\"#Abstract\" data-toc-modified-id=\"Abstract-1.1\"><span class=\"toc-item-num\">1.1&nbsp;&nbsp;</span>Abstract</a></span></li></ul></li></ul></div>"
   ]
  },
  {
   "cell_type": "markdown",
   "metadata": {},
   "source": [
    "# word2vec_Schritt_fuer_Schritt\n",
    "\n",
    "**Schriftliche Arbeit zum [CAS Big Data und Machine Learning der Universität Zürich](http://www.ifi.uzh.ch/de/studies/cas.html)**\n",
    "\n",
    "Thomas Briner, thomas.briner@gmail.com\n",
    "\n",
    "\n",
    "## Abstract\n",
    "\n",
    "Mit der Veröffentlichung von word2vec änderte sich ab 2013 die Ausgangslage im Gebiet des Natural Language Processing (NLP) grundsätzlich. Die Resultate\n",
    "    von word2vec übertrafen die bisherigen Ansätze bezüglich der Qualität wie auch der Performance deutlich. Das\n",
    "    Grundprinzip von word2vec, dass basierend auf einem Kontext die passenden Wörter vorausgesagt werden, ist ausgesprochen\n",
    "    einleuchtend und intuitiv. Wieso  dies aber zu Word Embeddings führt, die sowohl für semantische als auch syntaktische\n",
    "    Problemstellungen hervorragende Resultate erzielen, ist überraschend. In dieser Arbeit wird die Funktionsweise von word2vec Schritt für\n",
    "    Schritt durchleuchtet und anhand eines konkreten Beispiels greifbar gemacht.\n",
    "\n",
    "\n",
    "\n",
    "Live-Version des Jupyter Notebooks unter https://mybinder.org/v2/gh/thomasbriner/word2vec_Schritt_fuer_Schritt/master?filepath=word2vec_Schritt_fuer_Schritt.ipynb\n"
   ]
  },
  {
   "cell_type": "code",
   "execution_count": null,
   "metadata": {
    "collapsed": true
   },
   "outputs": [],
   "source": [
    "e"
   ]
  }
 ],
 "metadata": {
  "kernelspec": {
   "display_name": "Python 3",
   "language": "python",
   "name": "python3"
  },
  "language_info": {
   "codemirror_mode": {
    "name": "ipython",
    "version": 3
   },
   "file_extension": ".py",
   "mimetype": "text/x-python",
   "name": "python",
   "nbconvert_exporter": "python",
   "pygments_lexer": "ipython3",
   "version": "3.6.3"
  },
  "toc": {
   "base_numbering": 1,
   "nav_menu": {},
   "number_sections": true,
   "sideBar": true,
   "skip_h1_title": false,
   "title_cell": "Table of Contents",
   "title_sidebar": "Contents",
   "toc_cell": true,
   "toc_position": {},
   "toc_section_display": true,
   "toc_window_display": false
  }
 },
 "nbformat": 4,
 "nbformat_minor": 2
}
